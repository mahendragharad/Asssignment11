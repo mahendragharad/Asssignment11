{
  "nbformat": 4,
  "nbformat_minor": 0,
  "metadata": {
    "colab": {
      "provenance": []
    },
    "kernelspec": {
      "name": "python3",
      "display_name": "Python 3"
    },
    "language_info": {
      "name": "python"
    }
  },
  "cells": [
    {
      "cell_type": "markdown",
      "source": [
        "**1. Write a Python program to find words which are greater than given length k?**"
      ],
      "metadata": {
        "id": "A_z57DB4bn9J"
      }
    },
    {
      "cell_type": "code",
      "execution_count": null,
      "metadata": {
        "id": "uejgNuGObm2k"
      },
      "outputs": [],
      "source": [
        "def find_words(n) :\n",
        "    words = []\n",
        "    k = int( input(\"Enter the length \")) \n",
        "    for i in n :\n",
        "        if len(i) > k :\n",
        "            words.append(i)\n",
        "    print(f\"words which have greater length than {k}\" , words)\n",
        "            \n",
        "        "
      ]
    },
    {
      "cell_type": "code",
      "source": [
        "find_words([\"mahendra\" , \"mohit\" , \"jay\" , \"vithhal\"])"
      ],
      "metadata": {
        "colab": {
          "base_uri": "https://localhost:8080/"
        },
        "id": "fEO-E_t_b14t",
        "outputId": "89172132-224f-472b-f22f-db239ad9186d"
      },
      "execution_count": null,
      "outputs": [
        {
          "output_type": "stream",
          "name": "stdout",
          "text": [
            "Enter the length 3\n",
            "words which have greater length than 3 ['mahendra', 'mohit', 'vithhal']\n"
          ]
        }
      ]
    },
    {
      "cell_type": "markdown",
      "source": [
        "\n",
        "\n",
        "---\n",
        "\n"
      ],
      "metadata": {
        "id": "gYYY4hDrd_cS"
      }
    },
    {
      "cell_type": "markdown",
      "source": [
        "**2. Write a Python program for removing i-th character from a string?**"
      ],
      "metadata": {
        "id": "g76yCDned643"
      }
    },
    {
      "cell_type": "code",
      "source": [
        "def remove_ith_ele( ith_index , name ) :\n",
        "    for i in name :\n",
        "        x = name.index(i)\n",
        "        if x == ith_index :\n",
        "            new_string = name.replace(name[x] , '')\n",
        "            return new_string\n",
        "    else :\n",
        "            return \"you entered the number which is out of range \"\n"
      ],
      "metadata": {
        "id": "VJDkgHY7b9ot"
      },
      "execution_count": null,
      "outputs": []
    },
    {
      "cell_type": "code",
      "source": [
        "remove_ith_ele( 4 , \"mahendra\")"
      ],
      "metadata": {
        "colab": {
          "base_uri": "https://localhost:8080/",
          "height": 36
        },
        "id": "9hJPTTXOudcb",
        "outputId": "228b70d1-d9b5-41c9-cab4-7b8d7e8df78d"
      },
      "execution_count": null,
      "outputs": [
        {
          "output_type": "execute_result",
          "data": {
            "text/plain": [
              "'mahedra'"
            ],
            "application/vnd.google.colaboratory.intrinsic+json": {
              "type": "string"
            }
          },
          "metadata": {},
          "execution_count": 11
        }
      ]
    },
    {
      "cell_type": "code",
      "source": [
        "remove_ith_ele( 5 , \"mahendra\")"
      ],
      "metadata": {
        "colab": {
          "base_uri": "https://localhost:8080/",
          "height": 36
        },
        "id": "hKyUBOrGuti4",
        "outputId": "38595ca9-a2d6-4e34-98d4-df2cd0153946"
      },
      "execution_count": null,
      "outputs": [
        {
          "output_type": "execute_result",
          "data": {
            "text/plain": [
              "'mahenra'"
            ],
            "application/vnd.google.colaboratory.intrinsic+json": {
              "type": "string"
            }
          },
          "metadata": {},
          "execution_count": 12
        }
      ]
    },
    {
      "cell_type": "code",
      "source": [
        "remove_ith_ele( 8 , \"mahendra\")"
      ],
      "metadata": {
        "colab": {
          "base_uri": "https://localhost:8080/",
          "height": 36
        },
        "id": "k8-SMhxXuxKD",
        "outputId": "e834e750-477f-45fe-d773-07045f772c1b"
      },
      "execution_count": null,
      "outputs": [
        {
          "output_type": "execute_result",
          "data": {
            "text/plain": [
              "'you entered the number which is out of range '"
            ],
            "application/vnd.google.colaboratory.intrinsic+json": {
              "type": "string"
            }
          },
          "metadata": {},
          "execution_count": 13
        }
      ]
    },
    {
      "cell_type": "markdown",
      "source": [
        "\n",
        "\n",
        "---\n",
        "\n"
      ],
      "metadata": {
        "id": "tD9ydvI8u-P7"
      }
    },
    {
      "cell_type": "markdown",
      "source": [
        "**3.write a python program ton join and split the string**"
      ],
      "metadata": {
        "id": "-UleRgDsvn_6"
      }
    },
    {
      "cell_type": "code",
      "source": [
        "def split_join( operation , string ) :\n",
        "    if operation == \"join\" :\n",
        "        new_string = \".\".join(string)\n",
        "        return new_string\n",
        "    else :\n",
        "        new_string2 = string.split()\n",
        "        return new_string2\n",
        "        "
      ],
      "metadata": {
        "id": "WayVIv5Uu5ug"
      },
      "execution_count": 11,
      "outputs": []
    },
    {
      "cell_type": "code",
      "source": [
        "split_join( \"split\" , \"mahendra gharad patil\")"
      ],
      "metadata": {
        "id": "cWgeo0pL3pP3",
        "colab": {
          "base_uri": "https://localhost:8080/"
        },
        "outputId": "f6c9800a-6d26-4e11-c139-22f96935fa7e"
      },
      "execution_count": 12,
      "outputs": [
        {
          "output_type": "execute_result",
          "data": {
            "text/plain": [
              "['mahendra', 'gharad', 'patil']"
            ]
          },
          "metadata": {},
          "execution_count": 12
        }
      ]
    },
    {
      "cell_type": "code",
      "source": [
        "split_join( \"join\" , \"mahendra gharad patil\")"
      ],
      "metadata": {
        "id": "O4IvAeXF3sgD",
        "colab": {
          "base_uri": "https://localhost:8080/",
          "height": 36
        },
        "outputId": "b44b6f1a-5589-42e1-bf61-a3dbe576639b"
      },
      "execution_count": 13,
      "outputs": [
        {
          "output_type": "execute_result",
          "data": {
            "text/plain": [
              "'m.a.h.e.n.d.r.a. .g.h.a.r.a.d. .p.a.t.i.l'"
            ],
            "application/vnd.google.colaboratory.intrinsic+json": {
              "type": "string"
            }
          },
          "metadata": {},
          "execution_count": 13
        }
      ]
    },
    {
      "cell_type": "markdown",
      "source": [
        "\n",
        "\n",
        "---\n",
        "\n"
      ],
      "metadata": {
        "id": "mv5HJKQMlfnB"
      }
    },
    {
      "cell_type": "markdown",
      "source": [
        "**4. Write a Python to check if a given string is binary string or not?**"
      ],
      "metadata": {
        "id": "LdzwCCwOlX7o"
      }
    },
    {
      "cell_type": "code",
      "source": [
        "\n",
        "def is_binary_string(string):\n",
        "  binary_digits = {'0', '1'}\n",
        "  for char in string:\n",
        "    if char not in binary_digits:\n",
        "      return False\n",
        "      \n",
        "  return True\n",
        "\n",
        "print(is_binary_string(\"1010101010\"))  \n",
        "print(is_binary_string(\"1234567890\"))  \n",
        "print(is_binary_string(\"1100102\"))   \n"
      ],
      "metadata": {
        "colab": {
          "base_uri": "https://localhost:8080/"
        },
        "id": "TpiKZaBYjusP",
        "outputId": "f0f8d8d4-b178-423f-b7e8-2203c0ed20fc"
      },
      "execution_count": null,
      "outputs": [
        {
          "output_type": "stream",
          "name": "stdout",
          "text": [
            "True\n",
            "False\n",
            "False\n"
          ]
        }
      ]
    },
    {
      "cell_type": "markdown",
      "source": [
        "\n",
        "\n",
        "---\n",
        "\n"
      ],
      "metadata": {
        "id": "zdk-WItIlz8T"
      }
    },
    {
      "cell_type": "markdown",
      "source": [
        "**5.\tWrite a Python program to find uncommon words from two Strings?**"
      ],
      "metadata": {
        "id": "N4DX5m1LLuYq"
      }
    },
    {
      "cell_type": "code",
      "source": [
        "def uncommon(s1,s2):\n",
        "    list_s1 = s1.split()\n",
        "    list_s2 = s2.split()\n",
        "    uc_words = \"\"\n",
        "    for i in list_s1:\n",
        "        if i not in list_s2:\n",
        "            uc_words =  uc_words+\" \"+i\n",
        "    for j in list_s2:\n",
        "        if j not in list_s1:\n",
        "             uc_words =  uc_words+\" \"+j\n",
        "  \n",
        "    return  uc_words\n",
        "  \n",
        "\n",
        "a = \"ineuron is the best platform to learn data science\"\n",
        "b = \"ineuron is the best platform to learn web development\"\n",
        "print(uncommon(a,b))"
      ],
      "metadata": {
        "colab": {
          "base_uri": "https://localhost:8080/"
        },
        "id": "UaQZe9WJL0hd",
        "outputId": "5c015366-8f99-47fe-a070-b1206d566d21"
      },
      "execution_count": 7,
      "outputs": [
        {
          "output_type": "stream",
          "name": "stdout",
          "text": [
            " data science web development\n"
          ]
        }
      ]
    },
    {
      "cell_type": "markdown",
      "source": [
        "\n",
        "\n",
        "---\n",
        "\n"
      ],
      "metadata": {
        "id": "fbd3jsh3MLUk"
      }
    },
    {
      "cell_type": "markdown",
      "source": [
        "**6.\tWrite a Python to find all duplicate characters in string?**"
      ],
      "metadata": {
        "id": "QVmtin0oJRbn"
      }
    },
    {
      "cell_type": "code",
      "source": [
        "def duplicate_char(s1) :\n",
        "    new = set()\n",
        "    for i in s1 :\n",
        "        count = s1.count(i)\n",
        "        if count > 1 :\n",
        "            new.add(i)\n",
        "    return \"duplicate characters from string\" , new "
      ],
      "metadata": {
        "id": "20gapsmglxlp"
      },
      "execution_count": 2,
      "outputs": []
    },
    {
      "cell_type": "code",
      "source": [
        "duplicate_char(\"mahendranm\")"
      ],
      "metadata": {
        "colab": {
          "base_uri": "https://localhost:8080/"
        },
        "id": "rY6RbTcwJ5Rc",
        "outputId": "3072b714-718f-4f6a-9a33-20ed5cad652f"
      },
      "execution_count": 3,
      "outputs": [
        {
          "output_type": "execute_result",
          "data": {
            "text/plain": [
              "('duplicate characters from string', {'a', 'm', 'n'})"
            ]
          },
          "metadata": {},
          "execution_count": 3
        }
      ]
    },
    {
      "cell_type": "markdown",
      "source": [
        "\n",
        "\n",
        "---\n",
        "\n"
      ],
      "metadata": {
        "id": "xyCrt6h3J1yi"
      }
    },
    {
      "cell_type": "markdown",
      "source": [
        "**7.\tWrite a Python Program to check if a string contains any special character?**"
      ],
      "metadata": {
        "id": "Z5Awoy24JyTX"
      }
    },
    {
      "cell_type": "code",
      "source": [
        "import re\n",
        "\n",
        "def check_string(my_string):\n",
        "  regex = re.compile('[@_!#$%^&*()<>?/\\|}{~:]')\n",
        "  if(regex.search(my_string) == None):\n",
        "    print(\"String does not contains special characters.\")\n",
        "  else:\n",
        "    print(\"String contain special character.\")\n"
      ],
      "metadata": {
        "id": "Aq6d10K5Jler"
      },
      "execution_count": 4,
      "outputs": []
    },
    {
      "cell_type": "code",
      "source": [
        "check_string(\"mahendra###\")"
      ],
      "metadata": {
        "colab": {
          "base_uri": "https://localhost:8080/"
        },
        "id": "nTe4QDyZLV0v",
        "outputId": "4d9596f4-f2ee-494b-d5f9-8322f05ebaaa"
      },
      "execution_count": 5,
      "outputs": [
        {
          "output_type": "stream",
          "name": "stdout",
          "text": [
            "String contain special character.\n"
          ]
        }
      ]
    },
    {
      "cell_type": "code",
      "source": [
        "check_string(\"mahendra\")"
      ],
      "metadata": {
        "colab": {
          "base_uri": "https://localhost:8080/"
        },
        "id": "n6dCUMxiLZ9a",
        "outputId": "866edddc-3d16-4631-beae-5f3e8fb9f189"
      },
      "execution_count": 6,
      "outputs": [
        {
          "output_type": "stream",
          "name": "stdout",
          "text": [
            "String does not contains special characters.\n"
          ]
        }
      ]
    },
    {
      "cell_type": "markdown",
      "source": [
        "\n",
        "\n",
        "---\n",
        "\n"
      ],
      "metadata": {
        "id": "aPmJg5HBLhUv"
      }
    },
    {
      "cell_type": "code",
      "source": [],
      "metadata": {
        "id": "SPjAlLgBLeNz"
      },
      "execution_count": null,
      "outputs": []
    }
  ]
}